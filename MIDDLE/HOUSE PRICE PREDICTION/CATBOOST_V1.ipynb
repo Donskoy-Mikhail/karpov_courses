{
 "cells": [
  {
   "cell_type": "code",
   "execution_count": 29,
   "id": "0d78846a-2eca-4193-b07d-e66dd88274db",
   "metadata": {},
   "outputs": [],
   "source": [
    "import pandas as pd\n",
    "import catboost as ct\n",
    "from sklearn.model_selection import KFold, GroupKFold, train_test_split, TimeSeriesSplit\n",
    "\n",
    "VERSION = \"CATBOOST_V1\"\n",
    "target=\"price\""
   ]
  },
  {
   "cell_type": "code",
   "execution_count": 2,
   "id": "460b6e97-bae4-4781-9911-29e03fdfa7fe",
   "metadata": {},
   "outputs": [],
   "source": [
    "main_train_data = pd.read_csv(\"HW_train_main_data.csv\", parse_dates=[\"timestamp\"])\n",
    "main_test_data = pd.read_csv(\"HW_test_main_data.csv\", parse_dates=[\"timestamp\"])\n",
    "\n",
    "main_train_data = main_train_data.sort_values(by=[\"timestamp\"])\n",
    "main_test_data = main_test_data.sort_values(by=[\"timestamp\"])\n",
    "add_train_data = pd.read_csv(\"HW_train_additional_data.csv\")\n",
    "add_test_data = pd.read_csv(\"HW_test_additional_data.csv\")"
   ]
  },
  {
   "cell_type": "code",
   "execution_count": 3,
   "id": "72f21295-68f7-4579-b7fb-603b599a16f9",
   "metadata": {},
   "outputs": [],
   "source": [
    "main_train_data = main_train_data.merge(add_train_data, on=\"id\")\n",
    "main_test_data = main_test_data.merge(add_test_data, on=\"id\")"
   ]
  },
  {
   "cell_type": "code",
   "execution_count": 6,
   "id": "3f4b524e-8e90-42d5-b4da-54e8f4707889",
   "metadata": {},
   "outputs": [
    {
     "data": {
      "text/plain": [
       "id                                          int64\n",
       "timestamp                          datetime64[ns]\n",
       "full_sq                                     int64\n",
       "life_sq                                   float64\n",
       "floor                                     float64\n",
       "max_floor                                 float64\n",
       "material                                  float64\n",
       "build_year                                float64\n",
       "num_room                                  float64\n",
       "kitch_sq                                  float64\n",
       "apartment condition                       float64\n",
       "sub_area                                    int64\n",
       "price                                     float64\n",
       "population                                  int64\n",
       "indust_part                               float64\n",
       "preschool_facilities                        int64\n",
       "school_facilities                           int64\n",
       "hospital_beds_raion                       float64\n",
       "healthcare_facilities                       int64\n",
       "university_num                              int64\n",
       "sport_objects_facilities                    int64\n",
       "additional_education_facilities             int64\n",
       "culture_objects_facilities                  int64\n",
       "shopping_centers_facilities                 int64\n",
       "office_num                                  int64\n",
       "green_part                                float64\n",
       "prom_part                                 float64\n",
       "cafe_count                                  int64\n",
       "church_facilities                           int64\n",
       "mosque                                      int64\n",
       "leisure_facilities                          int64\n",
       "dtype: object"
      ]
     },
     "execution_count": 23,
     "metadata": {},
     "output_type": "execute_result"
    }
   ],
   "source": [
    "main_train_data.dtypes"
   ]
  },
  {
   "cell_type": "code",
   "execution_count": 19,
   "id": "2aaea1fc-17a3-4905-a52f-a7fb5a27fcb4",
   "metadata": {},
   "outputs": [
    {
     "data": {
      "text/plain": [
       "kitch_sq\n",
       "1.0         4612\n",
       "8.0         2565\n",
       "5.0         2460\n",
       "6.0         2179\n",
       "10.0        2137\n",
       "            ... \n",
       "48.0           1\n",
       "44.0           1\n",
       "36.0           1\n",
       "35.0           1\n",
       "2014.0         1\n",
       "Length: 74, dtype: int64"
      ]
     },
     "execution_count": 24,
     "metadata": {},
     "output_type": "execute_result"
    }
   ],
   "source": [
    "main_train_data[[\"kitch_sq\"]].value_counts()"
   ]
  },
  {
   "cell_type": "code",
   "execution_count": null,
   "id": "58aed135-f236-4d1c-9e46-ef64f6181592",
   "metadata": {},
   "outputs": [],
   "source": [
    "# X_train = main_train_data.drop(['id', target], axis = 1)\n",
    "# y_train = main_train_data[target]\n",
    "\n",
    "# X_test = main_test_data.drop(['id', target], axis = 1)"
   ]
  },
  {
   "cell_type": "code",
   "execution_count": 27,
   "id": "f8a536eb-0448-4915-9622-41f2285f9210",
   "metadata": {},
   "outputs": [
    {
     "name": "stdout",
     "output_type": "stream",
     "text": [
      "Learning rate set to 0.083421\n",
      "0:\tlearn: 4901522.4747542\ttest: 4657885.4717088\tbest: 4657885.4717088 (0)\ttotal: 19.5ms\tremaining: 19.5s\n",
      "100:\tlearn: 2562731.4460439\ttest: 3407706.5771566\tbest: 3406915.9798533 (93)\ttotal: 1.86s\tremaining: 16.6s\n",
      "Stopped by overfitting detector  (50 iterations wait)\n",
      "\n",
      "bestTest = 3389881.121\n",
      "bestIteration = 136\n",
      "\n",
      "Shrink model to first 137 iterations.\n",
      "Learning rate set to 0.083421\n",
      "0:\tlearn: 4956638.6475368\ttest: 4397296.8196639\tbest: 4397296.8196639 (0)\ttotal: 17.3ms\tremaining: 17.3s\n",
      "100:\tlearn: 2756707.2357912\ttest: 2788983.3159248\tbest: 2788983.3159248 (100)\ttotal: 1.83s\tremaining: 16.3s\n",
      "200:\tlearn: 2574487.8139100\ttest: 2730427.9049948\tbest: 2730427.9049948 (200)\ttotal: 3.62s\tremaining: 14.4s\n",
      "300:\tlearn: 2446087.4832128\ttest: 2696188.3657125\tbest: 2696054.5971135 (299)\ttotal: 5.43s\tremaining: 12.6s\n",
      "400:\tlearn: 2359231.5144656\ttest: 2683804.1944897\tbest: 2683804.1944897 (400)\ttotal: 7.22s\tremaining: 10.8s\n",
      "Stopped by overfitting detector  (50 iterations wait)\n",
      "\n",
      "bestTest = 2681498.264\n",
      "bestIteration = 446\n",
      "\n",
      "Shrink model to first 447 iterations.\n",
      "Learning rate set to 0.083421\n",
      "0:\tlearn: 4890490.8041928\ttest: 4707149.4070436\tbest: 4707149.4070436 (0)\ttotal: 16.8ms\tremaining: 16.8s\n",
      "100:\tlearn: 2687813.0618120\ttest: 2922902.0204114\tbest: 2922902.0204114 (100)\ttotal: 1.93s\tremaining: 17.2s\n",
      "200:\tlearn: 2498776.1838336\ttest: 2849612.8212044\tbest: 2849195.8190590 (197)\ttotal: 3.83s\tremaining: 15.2s\n",
      "300:\tlearn: 2390924.2274544\ttest: 2830270.8830483\tbest: 2829637.6943332 (295)\ttotal: 5.62s\tremaining: 13.1s\n",
      "400:\tlearn: 2311118.9132913\ttest: 2811957.8341559\tbest: 2811152.5484088 (397)\ttotal: 7.39s\tremaining: 11s\n",
      "500:\tlearn: 2241311.9289501\ttest: 2806382.9104711\tbest: 2805476.5005933 (499)\ttotal: 9.2s\tremaining: 9.16s\n",
      "Stopped by overfitting detector  (50 iterations wait)\n",
      "\n",
      "bestTest = 2805476.501\n",
      "bestIteration = 499\n",
      "\n",
      "Shrink model to first 500 iterations.\n",
      "Learning rate set to 0.083421\n",
      "0:\tlearn: 4822689.9956491\ttest: 5009624.2355691\tbest: 5009624.2355691 (0)\ttotal: 17.2ms\tremaining: 17.2s\n",
      "100:\tlearn: 2724243.7246144\ttest: 2833118.8456262\tbest: 2833118.8456262 (100)\ttotal: 1.85s\tremaining: 16.5s\n",
      "200:\tlearn: 2526555.7062254\ttest: 2731796.7832551\tbest: 2731796.7832551 (200)\ttotal: 3.66s\tremaining: 14.6s\n",
      "300:\tlearn: 2405794.1351472\ttest: 2706657.4409019\tbest: 2705121.1807884 (291)\ttotal: 5.44s\tremaining: 12.6s\n",
      "400:\tlearn: 2304475.4951168\ttest: 2689489.4595638\tbest: 2687748.8046907 (383)\ttotal: 7.27s\tremaining: 10.9s\n",
      "Stopped by overfitting detector  (50 iterations wait)\n",
      "\n",
      "bestTest = 2687090.08\n",
      "bestIteration = 403\n",
      "\n",
      "Shrink model to first 404 iterations.\n",
      "Learning rate set to 0.083421\n",
      "0:\tlearn: 4681134.6641190\ttest: 5545935.5625349\tbest: 5545935.5625349 (0)\ttotal: 19.1ms\tremaining: 19.1s\n",
      "100:\tlearn: 2685937.5835232\ttest: 3193323.2776098\tbest: 3193323.2776098 (100)\ttotal: 1.84s\tremaining: 16.4s\n",
      "200:\tlearn: 2519690.3107289\ttest: 3035956.3905785\tbest: 3035956.3905785 (200)\ttotal: 3.66s\tremaining: 14.5s\n",
      "300:\tlearn: 2411369.1330423\ttest: 2968869.7129337\tbest: 2968564.7836246 (297)\ttotal: 5.44s\tremaining: 12.6s\n",
      "400:\tlearn: 2327507.3251258\ttest: 2926829.8812400\tbest: 2926829.8812400 (400)\ttotal: 7.25s\tremaining: 10.8s\n",
      "500:\tlearn: 2250798.5656021\ttest: 2903461.1377614\tbest: 2903137.1285805 (499)\ttotal: 9.12s\tremaining: 9.08s\n",
      "600:\tlearn: 2189624.4294059\ttest: 2892035.5274444\tbest: 2891800.8176227 (594)\ttotal: 11s\tremaining: 7.29s\n",
      "700:\tlearn: 2137499.0728913\ttest: 2877988.3332014\tbest: 2877006.6445900 (697)\ttotal: 12.9s\tremaining: 5.48s\n",
      "800:\tlearn: 2092027.6361620\ttest: 2867921.8183875\tbest: 2867485.1716109 (795)\ttotal: 14.7s\tremaining: 3.66s\n",
      "900:\tlearn: 2043676.8917125\ttest: 2859480.4793181\tbest: 2859058.2953173 (892)\ttotal: 16.7s\tremaining: 1.83s\n",
      "999:\tlearn: 1999908.0570534\ttest: 2846719.9983538\tbest: 2846272.1030964 (983)\ttotal: 18.5s\tremaining: 0us\n",
      "\n",
      "bestTest = 2846272.103\n",
      "bestIteration = 983\n",
      "\n",
      "Shrink model to first 984 iterations.\n"
     ]
    }
   ],
   "source": [
    "kf = KFold(n_splits=5)\n",
    "\n",
    "models = []\n",
    "\n",
    "FEATURES = [c for c in main_train_data.columns if c not in ['id', 'timestamp', target]]\n",
    "\n",
    "for i, (train_index, test_index) in enumerate(kf.split(X=main_train_data)):\n",
    "    \n",
    "    train_x = main_train_data.iloc[train_index][FEATURES]\n",
    "    train_y = main_train_data[target].iloc[train_index]\n",
    "\n",
    "    # VALID DATA\n",
    "    valid_x = main_train_data.iloc[test_index][FEATURES]\n",
    "    valid_y = main_train_data[target].iloc[test_index]\n",
    "\n",
    "\n",
    "    # TRAIN MODEL        \n",
    "    model = ct.CatBoostRegressor(loss_function='RMSE')\n",
    "    cat_features = ['leisure_facilities', 'church_facilities']\n",
    "    model.fit(train_x, train_y,\n",
    "            eval_set=[(valid_x, valid_y)], early_stopping_rounds = 50,\n",
    "            use_best_model=True,\n",
    "            verbose=100, cat_features = cat_features)\n",
    "    \n",
    "    models.append(model)"
   ]
  },
  {
   "cell_type": "code",
   "execution_count": 30,
   "id": "655d9ce6-44b8-4d81-87bb-fac0e29a595f",
   "metadata": {},
   "outputs": [
    {
     "name": "stdout",
     "output_type": "stream",
     "text": [
      "Learning rate set to 0.083421\n",
      "0:\tlearn: 4901522.4747542\ttest: 4657885.4717088\tbest: 4657885.4717088 (0)\ttotal: 19.6ms\tremaining: 19.6s\n",
      "100:\tlearn: 2562731.4460439\ttest: 3407706.5771566\tbest: 3406915.9798533 (93)\ttotal: 1.82s\tremaining: 16.2s\n",
      "Stopped by overfitting detector  (50 iterations wait)\n",
      "\n",
      "bestTest = 3389881.121\n",
      "bestIteration = 136\n",
      "\n",
      "Shrink model to first 137 iterations.\n",
      "Learning rate set to 0.083421\n",
      "0:\tlearn: 4956638.6475368\ttest: 4397296.8196639\tbest: 4397296.8196639 (0)\ttotal: 19.9ms\tremaining: 19.9s\n",
      "100:\tlearn: 2756707.2357912\ttest: 2788983.3159248\tbest: 2788983.3159248 (100)\ttotal: 1.98s\tremaining: 17.6s\n",
      "200:\tlearn: 2574487.8139100\ttest: 2730427.9049948\tbest: 2730427.9049948 (200)\ttotal: 3.82s\tremaining: 15.2s\n",
      "300:\tlearn: 2446087.4832128\ttest: 2696188.3657125\tbest: 2696054.5971135 (299)\ttotal: 5.64s\tremaining: 13.1s\n",
      "400:\tlearn: 2359231.5144656\ttest: 2683804.1944897\tbest: 2683804.1944897 (400)\ttotal: 7.42s\tremaining: 11.1s\n",
      "Stopped by overfitting detector  (50 iterations wait)\n",
      "\n",
      "bestTest = 2681498.264\n",
      "bestIteration = 446\n",
      "\n",
      "Shrink model to first 447 iterations.\n",
      "Learning rate set to 0.083421\n",
      "0:\tlearn: 4890490.8041928\ttest: 4707149.4070436\tbest: 4707149.4070436 (0)\ttotal: 18.3ms\tremaining: 18.3s\n",
      "100:\tlearn: 2687813.0618120\ttest: 2922902.0204114\tbest: 2922902.0204114 (100)\ttotal: 1.83s\tremaining: 16.3s\n",
      "200:\tlearn: 2498776.1838336\ttest: 2849612.8212044\tbest: 2849195.8190590 (197)\ttotal: 3.63s\tremaining: 14.4s\n",
      "300:\tlearn: 2390924.2274544\ttest: 2830270.8830483\tbest: 2829637.6943332 (295)\ttotal: 5.39s\tremaining: 12.5s\n",
      "400:\tlearn: 2311118.9132913\ttest: 2811957.8341559\tbest: 2811152.5484088 (397)\ttotal: 7.25s\tremaining: 10.8s\n",
      "500:\tlearn: 2241311.9289501\ttest: 2806382.9104711\tbest: 2805476.5005933 (499)\ttotal: 9.08s\tremaining: 9.05s\n",
      "Stopped by overfitting detector  (50 iterations wait)\n",
      "\n",
      "bestTest = 2805476.501\n",
      "bestIteration = 499\n",
      "\n",
      "Shrink model to first 500 iterations.\n",
      "Learning rate set to 0.083421\n",
      "0:\tlearn: 4822689.9956491\ttest: 5009624.2355691\tbest: 5009624.2355691 (0)\ttotal: 18.3ms\tremaining: 18.3s\n",
      "100:\tlearn: 2724243.7246144\ttest: 2833118.8456262\tbest: 2833118.8456262 (100)\ttotal: 1.88s\tremaining: 16.8s\n",
      "200:\tlearn: 2526555.7062254\ttest: 2731796.7832551\tbest: 2731796.7832551 (200)\ttotal: 3.7s\tremaining: 14.7s\n",
      "300:\tlearn: 2405794.1351472\ttest: 2706657.4409019\tbest: 2705121.1807884 (291)\ttotal: 5.55s\tremaining: 12.9s\n",
      "400:\tlearn: 2304475.4951168\ttest: 2689489.4595638\tbest: 2687748.8046907 (383)\ttotal: 7.42s\tremaining: 11.1s\n",
      "Stopped by overfitting detector  (50 iterations wait)\n",
      "\n",
      "bestTest = 2687090.08\n",
      "bestIteration = 403\n",
      "\n",
      "Shrink model to first 404 iterations.\n",
      "Learning rate set to 0.083421\n",
      "0:\tlearn: 4681134.6641190\ttest: 5545935.5625349\tbest: 5545935.5625349 (0)\ttotal: 17.7ms\tremaining: 17.6s\n",
      "100:\tlearn: 2685937.5835232\ttest: 3193323.2776098\tbest: 3193323.2776098 (100)\ttotal: 1.88s\tremaining: 16.7s\n",
      "200:\tlearn: 2519690.3107289\ttest: 3035956.3905785\tbest: 3035956.3905785 (200)\ttotal: 3.99s\tremaining: 15.9s\n",
      "300:\tlearn: 2411369.1330423\ttest: 2968869.7129337\tbest: 2968564.7836246 (297)\ttotal: 6.4s\tremaining: 14.9s\n",
      "400:\tlearn: 2327507.3251258\ttest: 2926829.8812400\tbest: 2926829.8812400 (400)\ttotal: 8.47s\tremaining: 12.7s\n",
      "500:\tlearn: 2250798.5656021\ttest: 2903461.1377614\tbest: 2903137.1285805 (499)\ttotal: 10.5s\tremaining: 10.4s\n",
      "600:\tlearn: 2189624.4294059\ttest: 2892035.5274444\tbest: 2891800.8176227 (594)\ttotal: 12.5s\tremaining: 8.3s\n",
      "700:\tlearn: 2137499.0728913\ttest: 2877988.3332014\tbest: 2877006.6445900 (697)\ttotal: 14.5s\tremaining: 6.18s\n",
      "800:\tlearn: 2092027.6361620\ttest: 2867921.8183875\tbest: 2867485.1716109 (795)\ttotal: 16.5s\tremaining: 4.09s\n",
      "900:\tlearn: 2043676.8917125\ttest: 2859480.4793181\tbest: 2859058.2953173 (892)\ttotal: 18.4s\tremaining: 2.02s\n",
      "999:\tlearn: 1999908.0570534\ttest: 2846719.9983538\tbest: 2846272.1030964 (983)\ttotal: 20.7s\tremaining: 0us\n",
      "\n",
      "bestTest = 2846272.103\n",
      "bestIteration = 983\n",
      "\n",
      "Shrink model to first 984 iterations.\n"
     ]
    }
   ],
   "source": [
    "ts = TimeSeriesSplit(n_splits=5)\n",
    "\n",
    "models = []\n",
    "\n",
    "FEATURES = [c for c in main_train_data.columns if c not in ['id', 'timestamp', target]]\n",
    "\n",
    "for i, (train_index, test_index) in enumerate(kf.split(X=main_train_data)):\n",
    "    \n",
    "    train_x = main_train_data.iloc[train_index][FEATURES]\n",
    "    train_y = main_train_data[target].iloc[train_index]\n",
    "\n",
    "    # VALID DATA\n",
    "    valid_x = main_train_data.iloc[test_index][FEATURES]\n",
    "    valid_y = main_train_data[target].iloc[test_index]\n",
    "\n",
    "\n",
    "    # TRAIN MODEL        \n",
    "    model = ct.CatBoostRegressor(loss_function='RMSE')\n",
    "    cat_features = ['leisure_facilities', 'church_facilities']\n",
    "    model.fit(train_x, train_y,\n",
    "            eval_set=[(valid_x, valid_y)], early_stopping_rounds = 50,\n",
    "            use_best_model=True,\n",
    "            verbose=100, cat_features = cat_features)\n",
    "    \n",
    "    models.append(model)"
   ]
  },
  {
   "cell_type": "code",
   "execution_count": 16,
   "id": "f6c9bc35-93f0-49e9-a38a-0bfd2a590ce5",
   "metadata": {},
   "outputs": [],
   "source": [
    "pred['id'] = main_test_data[\"id\"]\n",
    "pred = pred.sort_values(by=[\"id\"])\n",
    "pred = pred.rename(columns={\"prediction_label\":\"predicted_price\"}).reset_index()\n",
    "pred[['id', \"predicted_price\"]].to_csv(f'{VERSION}.csv', index=False)\n"
   ]
  },
  {
   "cell_type": "code",
   "execution_count": null,
   "id": "7683b299-437c-43e5-a216-e355050ad541",
   "metadata": {},
   "outputs": [],
   "source": []
  }
 ],
 "metadata": {
  "kernelspec": {
   "display_name": "Python 3 (ipykernel)",
   "language": "python",
   "name": "python3"
  },
  "language_info": {
   "codemirror_mode": {
    "name": "ipython",
    "version": 3
   },
   "file_extension": ".py",
   "mimetype": "text/x-python",
   "name": "python",
   "nbconvert_exporter": "python",
   "pygments_lexer": "ipython3",
   "version": "3.10.9"
  }
 },
 "nbformat": 4,
 "nbformat_minor": 5
}
